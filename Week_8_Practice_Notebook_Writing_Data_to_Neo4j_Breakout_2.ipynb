{
  "nbformat": 4,
  "nbformat_minor": 0,
  "metadata": {
    "colab": {
      "provenance": [],
      "collapsed_sections": [
        "QLQufq9Gma3T",
        "ds9zIWuIXT_K",
        "-ymDzFJYMRja",
        "aa14iSC6MT7B",
        "LYC-NmmpM37e",
        "-btjhrd5TF35",
        "T6NGNn_4NKZm",
        "iwcup4ujNKZo",
        "-eUIqEt3Ux5L",
        "JagEZPyiNK5H",
        "bHlxe9u_NK5J",
        "3HNAQJgVW8Qo"
      ]
    },
    "kernelspec": {
      "name": "python3",
      "display_name": "Python 3"
    },
    "language_info": {
      "name": "python"
    }
  },
  "cells": [
    {
      "cell_type": "markdown",
      "source": [
        "# Practice Notebook: Writing Data to Neo4j"
      ],
      "metadata": {
        "id": "QLQufq9Gma3T"
      }
    },
    {
      "cell_type": "markdown",
      "source": [
        "## Pre-requisite"
      ],
      "metadata": {
        "id": "ds9zIWuIXT_K"
      }
    },
    {
      "cell_type": "code",
      "source": [
        "# importing neo4j drive\n",
        "!pip install neo4j"
      ],
      "metadata": {
        "id": "8SwTZApwRC9A",
        "colab": {
          "base_uri": "https://localhost:8080/"
        },
        "outputId": "668db16d-1c5f-4b06-c2e7-bb3a4fa0dc3f"
      },
      "execution_count": null,
      "outputs": [
        {
          "output_type": "stream",
          "name": "stdout",
          "text": [
            "Looking in indexes: https://pypi.org/simple, https://us-python.pkg.dev/colab-wheels/public/simple/\n",
            "Collecting neo4j\n",
            "  Downloading neo4j-5.6.0.tar.gz (171 kB)\n",
            "\u001b[2K     \u001b[90m━━━━━━━━━━━━━━━━━━━━━━━━━━━━━━━━━━━━━━━\u001b[0m \u001b[32m171.2/171.2 KB\u001b[0m \u001b[31m8.4 MB/s\u001b[0m eta \u001b[36m0:00:00\u001b[0m\n",
            "\u001b[?25h  Installing build dependencies ... \u001b[?25l\u001b[?25hdone\n",
            "  Getting requirements to build wheel ... \u001b[?25l\u001b[?25hdone\n",
            "  Installing backend dependencies ... \u001b[?25l\u001b[?25hdone\n",
            "  Preparing metadata (pyproject.toml) ... \u001b[?25l\u001b[?25hdone\n",
            "Requirement already satisfied: pytz in /usr/local/lib/python3.9/dist-packages (from neo4j) (2022.7.1)\n",
            "Building wheels for collected packages: neo4j\n",
            "  Building wheel for neo4j (pyproject.toml) ... \u001b[?25l\u001b[?25hdone\n",
            "  Created wheel for neo4j: filename=neo4j-5.6.0-py3-none-any.whl size=237450 sha256=a11324af5dbd6c9eb8495f277bfca6eff79835dd7770fe6de01649a327aca117\n",
            "  Stored in directory: /root/.cache/pip/wheels/c0/9b/d9/fdb6b67a6f6d7aef4acaefe55f339739caf09bb63e43bfb10e\n",
            "Successfully built neo4j\n",
            "Installing collected packages: neo4j\n",
            "Successfully installed neo4j-5.6.0\n"
          ]
        }
      ]
    },
    {
      "cell_type": "code",
      "source": [
        "from neo4j import GraphDatabase\n",
        "\n",
        "uri = \"neo4j+s://f680248d.databases.neo4j.io\"\n",
        "username = \"neo4j\"\n",
        "password = \"CV5io6VC99r107hqaJKPcwBukDFNJ1FTh3pHit4NoCM\"\n",
        "\n",
        "driver = GraphDatabase.driver(uri, auth=(username, password))"
      ],
      "metadata": {
        "id": "6H1kn0a3jIRN"
      },
      "execution_count": null,
      "outputs": []
    },
    {
      "cell_type": "markdown",
      "source": [
        "## Examples "
      ],
      "metadata": {
        "id": "-ymDzFJYMRja"
      }
    },
    {
      "cell_type": "markdown",
      "source": [
        "### 1. Writing Node Data"
      ],
      "metadata": {
        "id": "aa14iSC6MT7B"
      }
    },
    {
      "cell_type": "markdown",
      "source": [
        "When working with Neo4j, nodes are used to represent entities in a graph. Nodes are typically labeled with a descriptive label that indicates the type of entity it represents, and properties that provide additional information about that entity. Node data can be added to Neo4j using Cypher queries, and this can be done using the CREATE command.\n"
      ],
      "metadata": {
        "id": "yfga5mvzM2Am"
      }
    },
    {
      "cell_type": "code",
      "source": [
        "#from neo4j import GraphDatabase\n",
        "\n",
        "#driver = GraphDatabase.driver(\"\", auth=(\"\", \"\"))\n",
        "\n",
        "def create_person(tx, name, age):\n",
        "    tx.run(\"CREATE (:Person {name: $name, age: $age})\", name=name, age=age)\n",
        "\n",
        "with driver.session() as session:\n",
        "    session.execute_write(create_person, \"Alice\", 25)"
      ],
      "metadata": {
        "id": "vaXjc5RSM2bu"
      },
      "execution_count": null,
      "outputs": []
    },
    {
      "cell_type": "markdown",
      "source": [
        "The code above connects to a Neo4j database using the GraphDatabase.driver() method, passing in the Neo4j URI and authentication credentials. It then defines a create_person() function that takes a transaction object and the name and age of a person as parameters. The create_person() function runs a Cypher query to create a new node labeled as Person with name and age properties, using the tx.run() method.\n",
        "\n",
        "The code then creates a new session using the driver.session() method, and calls the execute_write() method of the session object to execute the create_person() function, passing in the name and age values for the new person. Finally, the code closes the session and the driver using the session.close() and driver.close() methods, respectively."
      ],
      "metadata": {
        "id": "GfZJiGgEM3MG"
      }
    },
    {
      "cell_type": "markdown",
      "source": [
        "#### Challenge"
      ],
      "metadata": {
        "id": "LYC-NmmpM37e"
      }
    },
    {
      "cell_type": "markdown",
      "source": [
        "Suppose you are working for a telecom company and you need to create a Neo4j graph to store customer data. Write a function create_customer that takes the following parameters: name, age, phone_number, address, and plan. The function should create a node with the label \"Customer\" and set the provided properties using the provided parameters. "
      ],
      "metadata": {
        "id": "yM2zsLGzNFV-"
      }
    },
    {
      "cell_type": "code",
      "source": [
        "# Your code goes here\n",
        "def create_customer(mx, name, age, phone_number, address, plan):\n",
        "    mx.run(\"CREATE (:customer {name: $name, age: $age, phone_number:$phone_number, address:$address, plan:$plan})\",\n",
        "           name=name, age=age, phone_number=phone_number, address=address, plan=plan)\n",
        "\n",
        "with driver.session() as session:\n",
        "    session.execute_write(create_customer, \"Eric\", 25, \"720553382\", \"30 Rongai\" ,\"Zidisha\")\n",
        "    session.execute_write(create_customer, \"Erigo\", 35, \"720554482\", \"55 Rongai\" ,\"postpay\")\n",
        "    session.execute_write(create_customer, \"Mumbo\", 29, \"720333382\", \"3009 Rongai\" ,\"hybrid\")\n",
        "\n"
      ],
      "metadata": {
        "id": "4bCCpOVgNE0F"
      },
      "execution_count": null,
      "outputs": []
    },
    {
      "cell_type": "markdown",
      "source": [
        "#### Sample solution"
      ],
      "metadata": {
        "id": "-btjhrd5TF35"
      }
    },
    {
      "cell_type": "code",
      "source": [
        "def create_customer(tx, name, age, phone_number, address, plan):\n",
        "    tx.run(\"CREATE (:Customer {name: $name, age: $age, phone_number: $phone_number, address: $address, plan: $plan})\", \n",
        "           name=name, age=age, phone_number=phone_number, address=address, plan=plan)\n",
        "\n",
        "with driver.session() as session:\n",
        "    session.execute_write(create_customer, \"John Smith\", 35, \"555-555-1234\", \"123 Main St, Anytown USA\", \"Premium\")"
      ],
      "metadata": {
        "id": "DO6Eo_6iTHPA"
      },
      "execution_count": null,
      "outputs": []
    },
    {
      "cell_type": "markdown",
      "source": [
        "### 2. Writing Relationship Data"
      ],
      "metadata": {
        "id": "T6NGNn_4NKZm"
      }
    },
    {
      "cell_type": "markdown",
      "source": [
        "In a graph database, relationships are used to establish connections between nodes. Relationships are defined with a type and can contain properties. In Neo4j, relationships are directional and always have a start and an end node."
      ],
      "metadata": {
        "id": "XHwW20chNKZn"
      }
    },
    {
      "cell_type": "code",
      "source": [
        "def create_relationship(tx, name1, name2):\n",
        "    tx.run(\"MATCH (a:Person {name: $name1}), (b:Person {name: $name2}) \\\n",
        "            CREATE (a)-[:KNOWS]->(b)\", name1=name1, name2=name2)\n",
        "\n",
        "with driver.session() as session:\n",
        "    session.execute_write(create_relationship, \"Alice\", \"Bob\")"
      ],
      "metadata": {
        "id": "_pOJXbU-NKZo"
      },
      "execution_count": null,
      "outputs": []
    },
    {
      "cell_type": "markdown",
      "source": [
        "The code provided connects to a Neo4j instance and creates a relationship between two nodes. The function create_relationship takes in two parameters, name1 and name2, which are used to match nodes with the given names. It then creates a directed KNOWS relationship from name1 to name2.\n",
        "\n",
        "The with block establishes a session with the Neo4j instance and uses the execute_write method to create a new transaction and run the create_relationship function with the given parameters. After the transaction is completed, the session and driver are closed using session.close() and driver.close() respectively."
      ],
      "metadata": {
        "id": "2_SGz1gPNKZo"
      }
    },
    {
      "cell_type": "markdown",
      "source": [
        "#### Challenge"
      ],
      "metadata": {
        "id": "iwcup4ujNKZo"
      }
    },
    {
      "cell_type": "markdown",
      "source": [
        "We have a telecom company that wants to create a Neo4j graph database to store information about its customers and their phone numbers. Each customer can have multiple phone numbers. Write a Python function that takes in two parameters, customer_name and phone_number, and creates a HAS_PHONE_NUMBER relationship between the customer and the phone number node."
      ],
      "metadata": {
        "id": "LPWIc2_6NKZp"
      }
    },
    {
      "cell_type": "code",
      "source": [
        "# Your code goes here\n",
        "def create_relationship(tx, customer_name, phone_number):\n",
        "    tx.run(\"MATCH (a:customer_name {customer_name: $customer_name}), (b:phone_number {phone_number: $phone_number}) \\\n",
        "            CREATE (a)-[:HAS_PHONE_NUMBER]->(b)\", customer_name=customer_name, phone_number=phone_number)\n",
        "\n",
        "with driver.session() as session:\n",
        "    session.execute_write(create_relationship, \"GMumbo\", \"7206677799\")"
      ],
      "metadata": {
        "id": "BORotQFINKZp"
      },
      "execution_count": null,
      "outputs": []
    },
    {
      "cell_type": "markdown",
      "source": [
        "#### Sample solution"
      ],
      "metadata": {
        "id": "-eUIqEt3Ux5L"
      }
    },
    {
      "cell_type": "code",
      "source": [
        "def create_phone_number_relationship(tx, customer_name, phone_number):\n",
        "    tx.run(\"MATCH (c:Customer {name: $customer_name}), (p:PhoneNumber {number: $phone_number}) \\\n",
        "            CREATE (c)-[:HAS_PHONE_NUMBER]->(p)\", customer_name=customer_name, phone_number=phone_number)\n",
        "\n",
        "with driver.session() as session:\n",
        "    session.execute_write(create_phone_number_relationship, \"John Doe\", \"555-1234\")"
      ],
      "metadata": {
        "id": "NrO7eOaYU1Kv"
      },
      "execution_count": null,
      "outputs": []
    },
    {
      "cell_type": "markdown",
      "source": [
        "### 3. Writing Node and Relationship Data Together"
      ],
      "metadata": {
        "id": "JagEZPyiNK5H"
      }
    },
    {
      "cell_type": "markdown",
      "source": [
        "When creating a graph in Neo4j, it is common to have both nodes and relationships. In order to create a relationship between two nodes, both nodes need to be created first. In the example code below, we create two nodes labeled \"Person\" and give them a name property, then create a relationship between them with the type \"KNOWS\". By creating nodes and relationships together in the same transaction, we ensure that the graph is created in a consistent state, and avoid potential issues with missing nodes or relationships."
      ],
      "metadata": {
        "id": "rZEmVjAQNK5I"
      }
    },
    {
      "cell_type": "code",
      "source": [
        "def create_node_relationship(tx):\n",
        "    tx.run(\"CREATE (n1:Person {name: $name1}) \"\n",
        "           \"CREATE (n2:Person {name: $name2}) \"\n",
        "           \"CREATE (n1)-[:KNOWS]->(n2)\",\n",
        "           name1=\"Alice\", name2=\"Bob\")\n",
        "\n",
        "with driver.session() as session:\n",
        "    session.execute_write(create_node_relationship)"
      ],
      "metadata": {
        "id": "bPiiLFb5NK5I"
      },
      "execution_count": null,
      "outputs": []
    },
    {
      "cell_type": "markdown",
      "source": [
        "The code uses the Neo4j Python driver to connect to a Neo4j instance.. It defines a function called \"create_node_relationship\" that takes a transaction object as its argument. Within the function, the transaction object is used to execute a Cypher query that creates two nodes with the labels \"Person\" and the properties \"name1\" and \"name2\", respectively, and a relationship between the two nodes with the type \"KNOWS\". The names of the nodes are specified as parameters to the Cypher query.\n",
        "\n",
        "The main part of the code then creates a session using the driver, and calls the \"create_node_relationship\" function execute_write function. The session is automatically closed when the with block is exited, and the driver is closed at the end of the script."
      ],
      "metadata": {
        "id": "EBdWIgjINK5J"
      }
    },
    {
      "cell_type": "markdown",
      "source": [
        "#### Challenge"
      ],
      "metadata": {
        "id": "bHlxe9u_NK5J"
      }
    },
    {
      "cell_type": "markdown",
      "source": [
        "Suppose we are working for a telecom company that provides phone and internet services to customers. We want to create a graph in Neo4j that represents the relationships between our customers, the phone numbers they use, and the internet plans they have subscribed to. Write a Python script that creates the following nodes and relationships:\n",
        "\n",
        "1. Customer nodes with properties name and email\n",
        "2. Phone nodes with properties number and type\n",
        "3. Internet plan nodes with properties name and speed\n",
        "4. Relationships between customer nodes and phone nodes with type HAS_PHONE\n",
        "5. Relationships between customer nodes and internet plan nodes with type HAS_PLAN"
      ],
      "metadata": {
        "id": "6_xTfE_1NK5J"
      }
    },
    {
      "cell_type": "code",
      "source": [
        "# Your code goes here\n",
        "def create_customer(tx, name, email):\n",
        "    tx.run(\"CREATE (:customer {name: $name, email: $email})\",\n",
        "           name=name, email=email)\n",
        "def create_phone_node(tx, number, type):\n",
        "    tx.run(\"CREATE (:number {number: $number, type: $type})\",\n",
        "           number=number, type=type)\n",
        "def create_internet_node(tx, plan, speed):\n",
        "    tx.run(\"CREATE (:plan {plan: $plan, speed: $speed})\",\n",
        "           plan=plan, speed=speed)\n",
        "def create_customer_phone_rel(tx, customer_name, phone_number):\n",
        "  tx.run(\"MATCH(c:customer{name:$customer_name}), (p:PhoneNumber {number: $phone_number}) \\\n",
        "            CREATE (c)-[:HAS_PHONE_NUMBER]->(p)\", customer_name=customer_name, phone_number=phone_number)\n",
        "\n",
        "def create_customer_internetplan_rel(tx, customer_name, plan):\n",
        "  tx.run(\"MATCH(c:customer{name:$customer_name}), (k:plan {plan: $plan}) \\\n",
        "            CREATE (c)-[:HAS_PLAN]->(k)\", customer_name=customer_name, plan=plan)\n",
        "\n",
        "\n",
        "\n",
        "\n",
        "\n",
        "\n",
        "with driver.session() as session:\n",
        "    session.execute_write(create_customer, \"Eric\", \"eric@eric.com\")\n",
        "    session.execute_write(create_phone_node, \"720777772\", \"home\")\n",
        "    session.execute_write(create_internet_node, \"4GoLTE\", \"5mbps\")\n",
        "    session.execute_write(create_customer_phone_rel, \"Eric\", \"720777772\")\n",
        "    session.execute_write(create_customer_internetplan_rel, \"Eric\", \"5mbps\")"
      ],
      "metadata": {
        "id": "EePk6dd2NK5J"
      },
      "execution_count": null,
      "outputs": []
    },
    {
      "cell_type": "markdown",
      "source": [
        "#### Sample solution"
      ],
      "metadata": {
        "id": "3HNAQJgVW8Qo"
      }
    },
    {
      "cell_type": "code",
      "source": [
        "def create_customer_phone_plan(tx):\n",
        "    tx.run(\"CREATE (:Customer {name: $name, email: $email})-[:HAS_PHONE]->(:Phone {number: $number, type: $type})\",\n",
        "           name=\"John Doe\", email=\"john.doe@example.com\", number=\"555-1234\", type=\"mobile\")\n",
        "    tx.run(\"CREATE (:Customer {name: $name, email: $email})-[:HAS_PLAN]->(:InternetPlan {name: $plan_name, speed: $plan_speed})\",\n",
        "           name=\"Jane Smith\", email=\"jane.smith@example.com\", plan_name=\"Silver\", plan_speed=\"100Mbps\")\n",
        "\n",
        "with driver.session() as session:\n",
        "    session.write_transaction(create_customer_phone_plan)"
      ],
      "metadata": {
        "id": "rfWIuupKW9_h",
        "colab": {
          "base_uri": "https://localhost:8080/"
        },
        "outputId": "edef7b24-304c-4d13-ba15-37fbff498277"
      },
      "execution_count": null,
      "outputs": [
        {
          "output_type": "stream",
          "name": "stderr",
          "text": [
            "<ipython-input-16-b7e610538a17>:8: DeprecationWarning: write_transaction has been renamed to execute_write\n",
            "  session.write_transaction(create_customer_phone_plan)\n"
          ]
        }
      ]
    },
    {
      "cell_type": "code",
      "source": [
        "driver.close()"
      ],
      "metadata": {
        "id": "0LDLDavwJgj5"
      },
      "execution_count": null,
      "outputs": []
    }
  ]
}