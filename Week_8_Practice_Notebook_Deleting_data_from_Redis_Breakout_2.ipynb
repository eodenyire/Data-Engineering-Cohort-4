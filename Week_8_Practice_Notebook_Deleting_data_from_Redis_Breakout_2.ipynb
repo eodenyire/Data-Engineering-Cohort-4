{
  "nbformat": 4,
  "nbformat_minor": 0,
  "metadata": {
    "colab": {
      "provenance": [],
      "toc_visible": true,
      "collapsed_sections": [
        "McWPzvagYvEI",
        "L4qEIYyyZWzI"
      ]
    },
    "kernelspec": {
      "name": "python3",
      "display_name": "Python 3"
    },
    "language_info": {
      "name": "python"
    }
  },
  "cells": [
    {
      "cell_type": "markdown",
      "source": [
        "# Practice Notebook: Deleting data from Redis"
      ],
      "metadata": {
        "id": "u26H6GxaYh-V"
      }
    },
    {
      "cell_type": "code",
      "source": [
        "!pip install redis"
      ],
      "metadata": {
        "id": "Kt0eyVbtf3np",
        "colab": {
          "base_uri": "https://localhost:8080/"
        },
        "outputId": "9c1b819f-670a-496e-995a-cb0232603d1d"
      },
      "execution_count": null,
      "outputs": [
        {
          "output_type": "stream",
          "name": "stdout",
          "text": [
            "Looking in indexes: https://pypi.org/simple, https://us-python.pkg.dev/colab-wheels/public/simple/\n",
            "Collecting redis\n",
            "  Downloading redis-4.5.2-py3-none-any.whl (238 kB)\n",
            "\u001b[2K     \u001b[90m━━━━━━━━━━━━━━━━━━━━━━━━━━━━━━━━━━━━━━━\u001b[0m \u001b[32m238.5/238.5 KB\u001b[0m \u001b[31m4.5 MB/s\u001b[0m eta \u001b[36m0:00:00\u001b[0m\n",
            "\u001b[?25hCollecting async-timeout>=4.0.2\n",
            "  Downloading async_timeout-4.0.2-py3-none-any.whl (5.8 kB)\n",
            "Installing collected packages: async-timeout, redis\n",
            "Successfully installed async-timeout-4.0.2 redis-4.5.2\n"
          ]
        }
      ]
    },
    {
      "cell_type": "markdown",
      "source": [
        "## Challenge 1"
      ],
      "metadata": {
        "id": "pgfHfcI7Yji4"
      }
    },
    {
      "cell_type": "markdown",
      "source": [
        "Write a Python function that deletes a given key from a Redis instance on Redis Lab. The function should take two arguments: the Redis instance URL and the key to be deleted. The function should use the delete() method to delete the key from the Redis instance.\n",
        "\n",
        "Hints:\n",
        "\n",
        "* You will need to use the Redis library for Python. You can install it using pip by running pip install redis.\n",
        "* You will need to create a Redis client object using the Redis URL provided in the function argument.\n",
        "* You can then use the delete() method of the Redis client object to delete the key."
      ],
      "metadata": {
        "id": "uHo3adTIYo4g"
      }
    },
    {
      "cell_type": "code",
      "execution_count": null,
      "metadata": {
        "id": "fK0RYs89Yero"
      },
      "outputs": [],
      "source": [
        "# Your code goes here\n",
        "#import librarie\n",
        "\n",
        "import redis\n",
        "\n",
        "#connect to redis\n",
        "r = redis.Redis(\n",
        "  host='redis-15919.c91.us-east-1-3.ec2.cloud.redislabs.com',\n",
        "  port=15919,\n",
        "  password='nVmHZlngfY9h61SwlkrcIsk8VF4ukWe4')\n",
        "  \n",
        "\n",
        "#function\n",
        "def delete_key(redis_instance, key):\n",
        "  #add strings\n",
        "  redis_instance.set('key1', \"value1\")\n",
        "  redis_instance.set('key2', \"value2\")\n",
        "  redis_instance.set('key3', \"value3\")\n",
        "  #delete record\n",
        "  redis_instance.delete(key)\n",
        "\n",
        "  values = redis_instance.get(key)\n",
        "\n",
        "  return(values)\n",
        "\n",
        "delete_key(r,'key1')"
      ]
    },
    {
      "cell_type": "code",
      "source": [
        "def delete_keys(redis_instance, keys):\n",
        "  # Add key-value pairs\n",
        "  redis_instance.set('key1', 'value1')\n",
        "  redis_instance.set('key2', 'value2')\n",
        "  redis_instance.set('key3', 'value3')\n",
        "\n",
        "  # Delete keys\n",
        "  redis_instance.delete(keys)\n",
        "\n",
        "  # Retrieve all remaining keys\n",
        "  remaining_keys = redis_instance.keys('*')\n",
        "\n",
        "  # Retrieve values of remaining keys\n",
        "  values = [redis_instance.mget(key) for key in remaining_keys]\n",
        "\n",
        "  return values\n",
        "\n",
        "delete_keys(r,'key1')\n",
        "\n"
      ],
      "metadata": {
        "colab": {
          "base_uri": "https://localhost:8080/"
        },
        "id": "toU9lsjBI0SG",
        "outputId": "818a19fd-b29a-448d-f88a-808b886f551f"
      },
      "execution_count": null,
      "outputs": [
        {
          "output_type": "execute_result",
          "data": {
            "text/plain": [
              "[[b'Girl'],\n",
              " [b'Korir'],\n",
              " [b'value'],\n",
              " [None],\n",
              " [b'value2'],\n",
              " [b'value3'],\n",
              " [None],\n",
              " [b'value3'],\n",
              " [b'world'],\n",
              " [b'value2'],\n",
              " [b'World']]"
            ]
          },
          "metadata": {},
          "execution_count": 26
        }
      ]
    },
    {
      "cell_type": "code",
      "source": [
        "def delete_key(redis_instance, key):\n",
        "  # add some keys\n",
        "  redis_instance.set('key1', \"value1\")\n",
        "  redis_instance.set('key2', \"value2\")\n",
        "  redis_instance.set('key3', \"value3\")\n",
        "  \n",
        "  # delete the key\n",
        "  redis_instance.delete(key)\n",
        "  \n",
        "  # get all the values in the Redis database\n",
        "  all_values = redis_instance.mget(redis_instance.keys('*'))\n",
        "  \n",
        "  # return the values\n",
        "  return all_values\n",
        "\n",
        "result = delete_key(r, 'key1')\n",
        "print(result)  # prints the list of all values in the Redis database"
      ],
      "metadata": {
        "id": "LrCZrxbaJSJu"
      },
      "execution_count": null,
      "outputs": []
    },
    {
      "cell_type": "markdown",
      "source": [
        "### Sample Solution"
      ],
      "metadata": {
        "id": "McWPzvagYvEI"
      }
    },
    {
      "cell_type": "code",
      "source": [
        "import redis\n",
        "\n",
        "def delete_key(redis_url, key):\n",
        "    client = redis.from_url(redis_url)\n",
        "    client.delete(key)\n",
        "\n",
        "# Example usage\n",
        "redis_url = 'redis://localhost:6379/0'\n",
        "key_to_delete = 'mykey'\n",
        "delete_key(redis_url, key_to_delete)"
      ],
      "metadata": {
        "id": "gWqnq6x6Ywt5"
      },
      "execution_count": null,
      "outputs": []
    },
    {
      "cell_type": "markdown",
      "source": [
        "## Challenge 2"
      ],
      "metadata": {
        "id": "AfpQekW4YmNK"
      }
    },
    {
      "cell_type": "markdown",
      "source": [
        "Write a Python function that deletes a given field from a Redis hash on Redis Lab. The function should take three arguments: the Redis instance URL, the name of the hash, and the name of the field to be deleted. The function should use the hdel() method to delete the field from the Redis hash.\n",
        "\n",
        "Hints:\n",
        "\n",
        "* You will need to use the Redis library for Python. You can install it using pip by running pip install redis.\n",
        "* You will need to create a Redis client object using the Redis URL provided in the function argument.\n",
        "* You can then use the hdel() method of the Redis client object to delete the field from the Redis hash.\n",
        "\n",
        "\n"
      ],
      "metadata": {
        "id": "gdxMhSX_Y98L"
      }
    },
    {
      "cell_type": "code",
      "source": [
        "# Your code goes here\n",
        "\n",
        "def delete_from_hash(redis_instance, hash_name, field):\n",
        "  #add some records\n",
        "  redis_instance.hset(\"EK1200\", \"name\",\"Anyira\")\n",
        "  redis_instance.hset(\"EK1200\", \"age\",\"12\")\n",
        "  redis_instance.hset(\"EK1200\", \"dept\",\"Big Data\")\n",
        "  redis_instance.hset(\"EK1200\", \"mobile\",\"0722000000\")\n",
        "\n",
        "  redis_instance.hset(\"EK1270\", \"name\",\"Mumbo\")\n",
        "  redis_instance.hset(\"EK1270\", \"age\",\"120\")\n",
        "  redis_instance.hset(\"EK1270\", \"dept\",\"Fixed Data\")\n",
        "  redis_instance.hset(\"EK1270\", \"mobile\",\"0722000001\")\n",
        "  \n",
        "  #delete\n",
        "  redis_instance.hdel(hash_name, field)\n",
        "\n",
        "  #get all the records\n",
        "  remaining_data = redis_instance.hgetall('EK1200')\n",
        "  return(remaining_data)\n",
        "\n",
        "#call the function\n",
        "delete_from_hash(r, 'EK1200', 'age')\n"
      ],
      "metadata": {
        "id": "u_DlQCPQZVTS",
        "colab": {
          "base_uri": "https://localhost:8080/"
        },
        "outputId": "d8d6d663-c608-4a54-ac6e-a7977798bb17"
      },
      "execution_count": null,
      "outputs": [
        {
          "output_type": "execute_result",
          "data": {
            "text/plain": [
              "{b'name': b'Anyira', b'dept': b'Big Data', b'mobile': b'0722000000'}"
            ]
          },
          "metadata": {},
          "execution_count": 33
        }
      ]
    },
    {
      "cell_type": "code",
      "source": [
        "def add_person(redis_instance, person_id, name, age, occupation):\n",
        "  # Create a dictionary with the field-value pairs for the person\n",
        "  person_data = {\n",
        "    'name': name,\n",
        "    'age': age,\n",
        "    'occupation': occupation\n",
        "  }\n",
        "\n",
        "  # Set the field-value pairs in the hash for the specified person_id\n",
        "  redis_instance.hmset(f'person:{person_id}', person_data)\n",
        "\n",
        "  return True\n",
        "\n",
        "r = redis.Redis(\n",
        "  host='redis-15919.c91.us-east-1-3.ec2.cloud.redislabs.com',\n",
        "  port=15919,\n",
        "  password='nVmHZlngfY9h61SwlkrcIsk8VF4ukWe4')\n",
        "  \n",
        "# r = redis.Redis(host='localhost', port=6379, db=0)\n",
        "add_person(r, 1, 'Alice', 25, 'Software Engineer')\n",
        "add_person(r, 2, 'Bob', 30, 'Data Analyst')\n",
        "add_person(r, 3, 'Charlie', 40, 'Marketing Manager')"
      ],
      "metadata": {
        "colab": {
          "base_uri": "https://localhost:8080/"
        },
        "id": "-PJmuHUeO7BR",
        "outputId": "0fde0aaf-fb57-4a31-801e-24b84b237ffc"
      },
      "execution_count": null,
      "outputs": [
        {
          "output_type": "stream",
          "name": "stderr",
          "text": [
            "<ipython-input-42-3e4b9aaaa876>:10: DeprecationWarning: Redis.hmset() is deprecated. Use Redis.hset() instead.\n",
            "  redis_instance.hmset(f'person:{person_id}', person_data)\n"
          ]
        },
        {
          "output_type": "execute_result",
          "data": {
            "text/plain": [
              "True"
            ]
          },
          "metadata": {},
          "execution_count": 42
        }
      ]
    },
    {
      "cell_type": "markdown",
      "source": [
        "### Sample solution"
      ],
      "metadata": {
        "id": "L4qEIYyyZWzI"
      }
    },
    {
      "cell_type": "code",
      "source": [
        "import redis\n",
        "\n",
        "def delete_field(redis_url, hash_name, field_name):\n",
        "    client = redis.from_url(redis_url)\n",
        "    client.hdel(hash_name, field_name)\n",
        "\n",
        "# Example usage\n",
        "redis_url = 'redis://localhost:6379/0'\n",
        "hash_name = 'myhash'\n",
        "field_to_delete = 'field1'\n",
        "delete_field(redis_url, hash_name, field_to_delete)"
      ],
      "metadata": {
        "id": "Ry7GROVBYnRp"
      },
      "execution_count": null,
      "outputs": []
    }
  ]
}