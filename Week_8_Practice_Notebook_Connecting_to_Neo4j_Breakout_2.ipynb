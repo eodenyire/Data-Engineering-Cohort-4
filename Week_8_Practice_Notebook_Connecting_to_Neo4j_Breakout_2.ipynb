{
  "nbformat": 4,
  "nbformat_minor": 0,
  "metadata": {
    "colab": {
      "provenance": [],
      "collapsed_sections": [
        "XX-XF4thn8pb"
      ],
      "toc_visible": true
    },
    "kernelspec": {
      "name": "python3",
      "display_name": "Python 3"
    },
    "language_info": {
      "name": "python"
    }
  },
  "cells": [
    {
      "cell_type": "markdown",
      "source": [
        "# Practice Notebook: Connecting to Neo4j\n"
      ],
      "metadata": {
        "id": "QLQufq9Gma3T"
      }
    },
    {
      "cell_type": "code",
      "source": [
        "!pip install neo4j"
      ],
      "metadata": {
        "colab": {
          "base_uri": "https://localhost:8080/"
        },
        "id": "_s1UZ5uxe1vk",
        "outputId": "e6d7b630-5539-4d19-dcc6-dfb6bac12b7e"
      },
      "execution_count": null,
      "outputs": [
        {
          "output_type": "stream",
          "name": "stdout",
          "text": [
            "Looking in indexes: https://pypi.org/simple, https://us-python.pkg.dev/colab-wheels/public/simple/\n",
            "Collecting neo4j\n",
            "  Downloading neo4j-5.6.0.tar.gz (171 kB)\n",
            "\u001b[2K     \u001b[90m━━━━━━━━━━━━━━━━━━━━━━━━━━━━━━━━━━━━━━━\u001b[0m \u001b[32m171.2/171.2 KB\u001b[0m \u001b[31m4.3 MB/s\u001b[0m eta \u001b[36m0:00:00\u001b[0m\n",
            "\u001b[?25h  Installing build dependencies ... \u001b[?25l\u001b[?25hdone\n",
            "  Getting requirements to build wheel ... \u001b[?25l\u001b[?25hdone\n",
            "  Installing backend dependencies ... \u001b[?25l\u001b[?25hdone\n",
            "  Preparing metadata (pyproject.toml) ... \u001b[?25l\u001b[?25hdone\n",
            "Requirement already satisfied: pytz in /usr/local/lib/python3.9/dist-packages (from neo4j) (2022.7.1)\n",
            "Building wheels for collected packages: neo4j\n",
            "  Building wheel for neo4j (pyproject.toml) ... \u001b[?25l\u001b[?25hdone\n",
            "  Created wheel for neo4j: filename=neo4j-5.6.0-py3-none-any.whl size=237450 sha256=0bf3f234fb074f258550d12863b4732474d0acbf5a0ca2b6d616a3c23e825ff9\n",
            "  Stored in directory: /root/.cache/pip/wheels/c0/9b/d9/fdb6b67a6f6d7aef4acaefe55f339739caf09bb63e43bfb10e\n",
            "Successfully built neo4j\n",
            "Installing collected packages: neo4j\n",
            "Successfully installed neo4j-5.6.0\n"
          ]
        }
      ]
    },
    {
      "cell_type": "code",
      "source": [
        "from neo4j import GraphDatabase"
      ],
      "metadata": {
        "id": "9vjuYUdCfCY_"
      },
      "execution_count": null,
      "outputs": []
    },
    {
      "cell_type": "code",
      "source": [
        "#Set the connection details:\n",
        "bolt_url = \"neo4j+s://f680248d.databases.neo4j.io\"\n",
        "user = \"neo4j\"\n",
        "password = \"CV5io6VC99r107hqaJKPcwBukDFNJ1FTh3pHit4NoCM\""
      ],
      "metadata": {
        "id": "CYVgfveTfXDU"
      },
      "execution_count": null,
      "outputs": []
    },
    {
      "cell_type": "code",
      "source": [
        "#Connect to the database:\n",
        "driver = GraphDatabase.driver(bolt_url, auth=(user, password))"
      ],
      "metadata": {
        "id": "R8rYuqNrgaw-"
      },
      "execution_count": null,
      "outputs": []
    },
    {
      "cell_type": "code",
      "source": [
        "#Running a test query\n",
        "with driver.session() as session:\n",
        "    result = session.run(\"RETURN 1\")\n",
        "    for record in result:\n",
        "        print(record)"
      ],
      "metadata": {
        "colab": {
          "base_uri": "https://localhost:8080/"
        },
        "id": "H8MKnGGEhC60",
        "outputId": "86089472-172c-4bb6-f79b-cbc43cbc05c3"
      },
      "execution_count": null,
      "outputs": [
        {
          "output_type": "stream",
          "name": "stdout",
          "text": [
            "<Record 1=1>\n"
          ]
        }
      ]
    },
    {
      "cell_type": "code",
      "source": [
        "# Close the driver instance\n",
        "driver.close()"
      ],
      "metadata": {
        "id": "xEJ64haThUKc"
      },
      "execution_count": null,
      "outputs": []
    },
    {
      "cell_type": "markdown",
      "source": [
        "## Challenge"
      ],
      "metadata": {
        "id": "2oX3Vk5Enoo7"
      }
    },
    {
      "cell_type": "markdown",
      "source": [
        "In this challenge, you will deploy a Neo4j database on Neo4j Aura and then connect to it using Python. The challenge has two parts:\n",
        "* Deploy a Neo4j database on Neo4j Aura.\n",
        "* Connect to the database using Python and run a simple query.\n"
      ],
      "metadata": {
        "id": "d81h-w9knxri"
      }
    },
    {
      "cell_type": "code",
      "source": [
        "# Your code goes here\n"
      ],
      "metadata": {
        "id": "d0Pw_WahnoOa"
      },
      "execution_count": null,
      "outputs": []
    },
    {
      "cell_type": "markdown",
      "source": [
        "### Sample solution"
      ],
      "metadata": {
        "id": "XX-XF4thn8pb"
      }
    },
    {
      "cell_type": "code",
      "source": [
        "from neo4j import GraphDatabase\n",
        "bolt_url = \"\"\n",
        "user = \"neo4j\"\n",
        "password = \"\"\n",
        "\n",
        "driver = GraphDatabase.driver(bolt_url, auth=(user, password))\n",
        "\n",
        "with driver.session() as session:\n",
        "    result = session.run(\"RETURN 1\")\n",
        "    for record in result:\n",
        "        print(record)\n",
        "driver.close()"
      ],
      "metadata": {
        "colab": {
          "base_uri": "https://localhost:8080/"
        },
        "id": "1o4Vthfajjqr",
        "outputId": "1351e5b8-8fb6-4c80-9c52-815e215c6401"
      },
      "execution_count": null,
      "outputs": [
        {
          "output_type": "stream",
          "name": "stdout",
          "text": [
            "<Record 1=1>\n"
          ]
        }
      ]
    },
    {
      "cell_type": "markdown",
      "source": [
        "## Thursday: Writing Data to a Neo4J Database"
      ],
      "metadata": {
        "id": "sxsU1j8Ciayv"
      }
    }
  ]
}