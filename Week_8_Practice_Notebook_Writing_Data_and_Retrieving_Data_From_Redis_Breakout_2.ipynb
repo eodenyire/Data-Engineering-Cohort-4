{
  "nbformat": 4,
  "nbformat_minor": 0,
  "metadata": {
    "colab": {
      "provenance": [],
      "toc_visible": true,
      "collapsed_sections": [
        "pgfHfcI7Yji4",
        "McWPzvagYvEI",
        "AfpQekW4YmNK",
        "L4qEIYyyZWzI"
      ]
    },
    "kernelspec": {
      "name": "python3",
      "display_name": "Python 3"
    },
    "language_info": {
      "name": "python"
    }
  },
  "cells": [
    {
      "cell_type": "markdown",
      "source": [
        "# Practice Notebook: Writing Data and Retrieving Data From Redis"
      ],
      "metadata": {
        "id": "u26H6GxaYh-V"
      }
    },
    {
      "cell_type": "code",
      "source": [
        "!pip install redis"
      ],
      "metadata": {
        "id": "Kt0eyVbtf3np",
        "colab": {
          "base_uri": "https://localhost:8080/"
        },
        "outputId": "f28c57f8-399d-4602-dfc4-581c8f8ded5b"
      },
      "execution_count": null,
      "outputs": [
        {
          "output_type": "stream",
          "name": "stdout",
          "text": [
            "Looking in indexes: https://pypi.org/simple, https://us-python.pkg.dev/colab-wheels/public/simple/\n",
            "Requirement already satisfied: redis in /usr/local/lib/python3.9/dist-packages (4.5.2)\n",
            "Requirement already satisfied: async-timeout>=4.0.2 in /usr/local/lib/python3.9/dist-packages (from redis) (4.0.2)\n"
          ]
        }
      ]
    },
    {
      "cell_type": "markdown",
      "source": [
        "## Challenge 1"
      ],
      "metadata": {
        "id": "pgfHfcI7Yji4"
      }
    },
    {
      "cell_type": "markdown",
      "source": [
        "Write a function that takes in a string and stores it in Redis under the key \"message\". Then, retrieve the message from Redis and return it.\n",
        "\n",
        "Hints:\n",
        "\n",
        "* Use the set method to store the string in Redis.\n",
        "* Use the get method to retrieve the string from Redis.\n",
        "* Remember that Redis returns bytes objects when you retrieve data."
      ],
      "metadata": {
        "id": "uHo3adTIYo4g"
      }
    },
    {
      "cell_type": "code",
      "execution_count": null,
      "metadata": {
        "id": "fK0RYs89Yero",
        "colab": {
          "base_uri": "https://localhost:8080/",
          "height": 36
        },
        "outputId": "379d5446-ea79-41e9-b5a4-ea3037722130"
      },
      "outputs": [
        {
          "output_type": "execute_result",
          "data": {
            "text/plain": [
              "'Girl'"
            ],
            "application/vnd.google.colaboratory.intrinsic+json": {
              "type": "string"
            }
          },
          "metadata": {},
          "execution_count": 5
        }
      ],
      "source": [
        "# Your code goes here\n",
        "\n",
        "# import redis\n",
        "import redis\n",
        "\n",
        "#connect to reddis\n",
        "r = redis.Redis(\n",
        "  host='redis-15919.c91.us-east-1-3.ec2.cloud.redislabs.com',\n",
        "  port=15919,\n",
        "  password='nVmHZlngfY9h61SwlkrcIsk8VF4ukWe4')\n",
        "  \n",
        "\n",
        "def store_and_retrieve_message(message):\n",
        "# Store the message in Redis\n",
        "  r.set(\"message\", message)\n",
        "  # Retrieve the message from Redis\n",
        "  message_bytes = r.get(\"message\")\n",
        "  # Convert the bytes object to a string\n",
        "  message_string = message_bytes.decode('utf-8')\n",
        "  # Return the message\n",
        "  return message_string\n",
        "\n",
        "store_and_retrieve_message('Girl')"
      ]
    },
    {
      "cell_type": "markdown",
      "source": [
        "### Sample Solution"
      ],
      "metadata": {
        "id": "McWPzvagYvEI"
      }
    },
    {
      "cell_type": "code",
      "source": [
        "import redis\n",
        "\n",
        "r = redis.Redis(host=\"\", port=\"\", db=\"\")\n",
        "\n",
        "def store_and_retrieve_message(message):\n",
        "# Store the message in Redis\n",
        "r.set(\"message\", message)\n",
        "\n",
        "# Retrieve the message from Redis\n",
        "message_bytes = r.get(\"message\")\n",
        "\n",
        "# Convert the bytes object to a string\n",
        "message_string = message_bytes.decode('utf-8')\n",
        "\n",
        "# Return the message\n",
        "return message_string"
      ],
      "metadata": {
        "id": "gWqnq6x6Ywt5"
      },
      "execution_count": null,
      "outputs": []
    },
    {
      "cell_type": "markdown",
      "source": [
        "## Challenge 2"
      ],
      "metadata": {
        "id": "AfpQekW4YmNK"
      }
    },
    {
      "cell_type": "markdown",
      "source": [
        "Write a function that takes in a dictionary representing a person's information (name, age, and city) and stores it in Redis as a hash under the key \"person\". Then, retrieve the person's information from Redis and return it as a dictionary.\n",
        "\n",
        "Hints:\n",
        "\n",
        "* Use the hset method to store the values in the Redis hash.\n",
        "* Use the hgetall method to retrieve the hash from Redis.\n",
        "* Remember that Redis returns bytes objects when you retrieve data.\n",
        "\n",
        "\n"
      ],
      "metadata": {
        "id": "gdxMhSX_Y98L"
      }
    },
    {
      "cell_type": "code",
      "source": [
        "# Your code goes here\n",
        "\n",
        "# import redis\n",
        "import redis\n",
        "\n",
        "\n",
        "def store_and_retrieve_person_info(person):\n",
        "# Store the person's information in Redis as a hash\n",
        "  r.hset(\"person\", \"name\", person[\"name\"])\n",
        "  r.hset(\"person\",\"age\", person['age'])\n",
        "  r.hset(\"person\", \"occupation\", person['occupation'])\n",
        "# Retrieve the person's information from Redis\n",
        "  person_hash = r.hgetall(\"person\")\n",
        "# Convert the bytes objects to strings\n",
        "  person_dict = {}\n",
        "  for key, value in person_hash.items():\n",
        "    key_string = key.decode('utf-8')\n",
        "    value_string = value.decode('utf-8')\n",
        "    person_dict[key_string] = value_string\n",
        "\n",
        "# Return the person's information as a dictionary\n",
        "  return person_dict\n",
        "  \n",
        "korir= {\"name\": 'Korir', 'age':39, 'occupation':'Engineer'}\n",
        "kemboi= {\"name\": 'Allan', 'age':19, 'occupation':'Farmer'}\n",
        "store_and_retrieve_person_info(kemboi)"
      ],
      "metadata": {
        "id": "u_DlQCPQZVTS",
        "colab": {
          "base_uri": "https://localhost:8080/"
        },
        "outputId": "690203fc-68a2-41a5-d8e9-455707f47dac"
      },
      "execution_count": null,
      "outputs": [
        {
          "output_type": "execute_result",
          "data": {
            "text/plain": [
              "{'name': 'Allan', 'age': '19', 'occupation': 'Farmer'}"
            ]
          },
          "metadata": {},
          "execution_count": 17
        }
      ]
    },
    {
      "cell_type": "markdown",
      "source": [
        "### Sample solution"
      ],
      "metadata": {
        "id": "L4qEIYyyZWzI"
      }
    },
    {
      "cell_type": "code",
      "source": [
        "import redis\n",
        "\n",
        "r = redis.Redis(host=\"\", port=\"\", db=\"\")\n",
        "\n",
        "def store_and_retrieve_person_info(person):\n",
        "# Store the person's information in Redis as a hash\n",
        "  r.hset(\"person\", \"name\", person[\"name\"])\n",
        "  r.hset(\"person\", \"age\", person[\"age\"])\n",
        "  r.hset(\"person\", \"city\", person[\"city\"])\n",
        "\n",
        "# Retrieve the person's information from Redis\n",
        "person_hash = r.hgetall(\"person\")\n",
        "\n",
        "# Convert the bytes objects to strings\n",
        "person_dict = {}\n",
        "for key, value in person_hash.items():\n",
        "    key_string = key.decode('utf-8')\n",
        "    value_string = value.decode('utf-8')\n",
        "    person_dict[key_string] = value_string\n",
        "\n",
        "# Return the person's information as a dictionary\n",
        "return person_dict"
      ],
      "metadata": {
        "id": "Ry7GROVBYnRp"
      },
      "execution_count": null,
      "outputs": []
    }
  ]
}