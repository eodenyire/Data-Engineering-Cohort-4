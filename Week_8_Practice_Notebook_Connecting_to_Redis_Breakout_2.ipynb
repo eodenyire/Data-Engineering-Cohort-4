{
  "nbformat": 4,
  "nbformat_minor": 0,
  "metadata": {
    "colab": {
      "provenance": [],
      "collapsed_sections": [
        "McWPzvagYvEI"
      ]
    },
    "kernelspec": {
      "name": "python3",
      "display_name": "Python 3"
    },
    "language_info": {
      "name": "python"
    }
  },
  "cells": [
    {
      "cell_type": "markdown",
      "source": [
        "# Practice Notebook: Connecting to Redis"
      ],
      "metadata": {
        "id": "u26H6GxaYh-V"
      }
    },
    {
      "cell_type": "code",
      "source": [],
      "metadata": {
        "id": "cGJlcq6qGRlY"
      },
      "execution_count": null,
      "outputs": []
    },
    {
      "cell_type": "code",
      "source": [],
      "metadata": {
        "id": "xEFJ_16jGSFu"
      },
      "execution_count": null,
      "outputs": []
    },
    {
      "cell_type": "markdown",
      "source": [
        "## Challenge"
      ],
      "metadata": {
        "id": "pgfHfcI7Yji4"
      }
    },
    {
      "cell_type": "markdown",
      "source": [
        "Write a Python function connect_redis that takes in three arguments - hostname, port_number, and password and returns a Redis object that is connected to a Redis instance hosted on Redis Labs using the given arguments.\n",
        "\n",
        "Hints:\n",
        "* Use the redis module to import the Redis class.\n",
        "* Use the Redis() class constructor to create a Redis object and pass the hostname, port_number, and password arguments to the constructor.\n",
        "* Use return statement to return the Redis object."
      ],
      "metadata": {
        "id": "uHo3adTIYo4g"
      }
    },
    {
      "cell_type": "code",
      "source": [
        "!pip install redis"
      ],
      "metadata": {
        "id": "hk0S1wGJfw2p"
      },
      "execution_count": null,
      "outputs": []
    },
    {
      "cell_type": "code",
      "execution_count": null,
      "metadata": {
        "id": "fK0RYs89Yero",
        "colab": {
          "base_uri": "https://localhost:8080/"
        },
        "outputId": "32752810-6c76-4a32-83f2-5deddc11e3d8"
      },
      "outputs": [
        {
          "output_type": "execute_result",
          "data": {
            "text/plain": [
              "Redis<ConnectionPool<Connection<host=redis-15919.c91.us-east-1-3.ec2.cloud.redislabs.com,port=15919,db=0>>>"
            ]
          },
          "metadata": {},
          "execution_count": 4
        }
      ],
      "source": [
        "# Your code goes here\n",
        "\n",
        "# import redis\n",
        "import redis\n",
        "\n",
        "# define the function\n",
        "def connect_redis(host, port, password):\n",
        "  r = redis.Redis(\n",
        "  host=host,\n",
        "  port=port,\n",
        "  password= password)\n",
        "  return r\n",
        "\n",
        "host='redis-15919.c91.us-east-1-3.ec2.cloud.redislabs.com'\n",
        "port=15919\n",
        "password='nVmHZlngfY9h61SwlkrcIsk8VF4ukWe4'\n",
        "\n",
        "connect_redis(host, port, password)\n"
      ]
    },
    {
      "cell_type": "code",
      "source": [
        "first_name = 'Kemboi'\n",
        "last_name = 'Allan'\n",
        "\n",
        "print('')"
      ],
      "metadata": {
        "id": "Bq8YioZARQLn"
      },
      "execution_count": null,
      "outputs": []
    },
    {
      "cell_type": "markdown",
      "source": [
        "### Sample Solution"
      ],
      "metadata": {
        "id": "McWPzvagYvEI"
      }
    },
    {
      "cell_type": "code",
      "source": [
        "import redis\n",
        "\n",
        "def connect_redis(hostname, port_number, password):\n",
        "    r = redis.Redis(host=hostname, port=port_number, password=password)\n",
        "    return r\n",
        "\n",
        "return message_string"
      ],
      "metadata": {
        "id": "gWqnq6x6Ywt5"
      },
      "execution_count": null,
      "outputs": []
    }
  ]
}