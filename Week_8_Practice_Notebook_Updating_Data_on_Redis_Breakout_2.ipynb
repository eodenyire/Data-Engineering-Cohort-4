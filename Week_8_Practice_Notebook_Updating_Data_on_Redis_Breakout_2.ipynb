{
  "nbformat": 4,
  "nbformat_minor": 0,
  "metadata": {
    "colab": {
      "provenance": [],
      "toc_visible": true,
      "collapsed_sections": [
        "McWPzvagYvEI",
        "L4qEIYyyZWzI"
      ]
    },
    "kernelspec": {
      "name": "python3",
      "display_name": "Python 3"
    },
    "language_info": {
      "name": "python"
    }
  },
  "cells": [
    {
      "cell_type": "markdown",
      "source": [
        "# Practice Notebook: Updating Data on Redis"
      ],
      "metadata": {
        "id": "u26H6GxaYh-V"
      }
    },
    {
      "cell_type": "code",
      "source": [
        "!pip install redis"
      ],
      "metadata": {
        "id": "MNCt0yFzf1dm",
        "colab": {
          "base_uri": "https://localhost:8080/"
        },
        "outputId": "4ddd4a27-888c-4a8b-9246-d696ddd3ade5"
      },
      "execution_count": null,
      "outputs": [
        {
          "output_type": "stream",
          "name": "stdout",
          "text": [
            "Looking in indexes: https://pypi.org/simple, https://us-python.pkg.dev/colab-wheels/public/simple/\n",
            "Collecting redis\n",
            "  Downloading redis-4.5.2-py3-none-any.whl (238 kB)\n",
            "\u001b[2K     \u001b[90m━━━━━━━━━━━━━━━━━━━━━━━━━━━━━━━━━━━━━━━\u001b[0m \u001b[32m238.5/238.5 KB\u001b[0m \u001b[31m4.5 MB/s\u001b[0m eta \u001b[36m0:00:00\u001b[0m\n",
            "\u001b[?25hCollecting async-timeout>=4.0.2\n",
            "  Downloading async_timeout-4.0.2-py3-none-any.whl (5.8 kB)\n",
            "Installing collected packages: async-timeout, redis\n",
            "Successfully installed async-timeout-4.0.2 redis-4.5.2\n"
          ]
        }
      ]
    },
    {
      "cell_type": "markdown",
      "source": [
        "## Challenge 1: Update a string value in Redis"
      ],
      "metadata": {
        "id": "pgfHfcI7Yji4"
      }
    },
    {
      "cell_type": "markdown",
      "source": [
        "Write a function that takes in two arguments: a Redis instance and a key. The function should update the value of the key in Redis to \"world\". Use the set() method to update the value.\n",
        "\n",
        "\n",
        "Hints:\n",
        "\n",
        "* Start by setting the value of the key to \"hello\" using the set() method.\n",
        "* Then use the set() method again to update the value of the key to \"world\"."
      ],
      "metadata": {
        "id": "uHo3adTIYo4g"
      }
    },
    {
      "cell_type": "code",
      "execution_count": null,
      "metadata": {
        "id": "fK0RYs89Yero",
        "colab": {
          "base_uri": "https://localhost:8080/"
        },
        "outputId": "4f09f4fc-cbed-4a47-c8e7-68a967a1d026"
      },
      "outputs": [
        {
          "output_type": "execute_result",
          "data": {
            "text/plain": [
              "('hello', 'World!')"
            ]
          },
          "metadata": {},
          "execution_count": 8
        }
      ],
      "source": [
        "# Your code goes below\n",
        "\n",
        "# import redis\n",
        "import redis\n",
        "\n",
        "r = redis.Redis(host='redis-15919.c91.us-east-1-3.ec2.cloud.redislabs.com',\n",
        "                port=15919,password='nVmHZlngfY9h61SwlkrcIsk8VF4ukWe4')\n",
        "\n",
        "# Define the function\n",
        "def update_string(redis_instance, key):\n",
        "  #set the initial k,v\n",
        "  r.set(key, \"hello\")\n",
        "  #get\n",
        "  old_value = r.get(key)\n",
        "\n",
        "  #update\n",
        "  r.set(key, \"World!\")\n",
        "  #get\n",
        "  new_value = r.get(key)\n",
        "\n",
        "  #decode from byte object to string\n",
        "  old_string = old_value.decode('utf-8')\n",
        "  new_string = new_value.decode('utf-8')\n",
        "\n",
        "  return(old_string, new_string)\n",
        "\n",
        "\n",
        "# call the update_string() function\n",
        "update_string(r, 'mykey')"
      ]
    },
    {
      "cell_type": "markdown",
      "source": [
        "### Sample Solution"
      ],
      "metadata": {
        "id": "McWPzvagYvEI"
      }
    },
    {
      "cell_type": "code",
      "source": [
        "import redis\n",
        "\n",
        "def update_string(redis_instance, key):\n",
        "  redis_instance.set(key, 'hello')\n",
        "  redis_instance.set(key, 'world')\n",
        "\n",
        "# redis_instance = redis.Redis(host=\"\", port=\"\", db=\"\")\n",
        "update_string(r, 'mykey')"
      ],
      "metadata": {
        "id": "gWqnq6x6Ywt5"
      },
      "execution_count": null,
      "outputs": []
    },
    {
      "cell_type": "markdown",
      "source": [
        "## Challenge 2: Update a set value in Redis"
      ],
      "metadata": {
        "id": "AfpQekW4YmNK"
      }
    },
    {
      "cell_type": "markdown",
      "source": [
        "Write a function that takes in two arguments: a Redis instance and a set name. The function should update the value \"value1\" in the set to \"newvalue1\". Use the srem() and sadd() methods to update the value.\n",
        "\n",
        "Hints:\n",
        "\n",
        "* Start by adding two values to the set using the sadd() method.\n",
        "* Then remove the old value \"value1\" from the set using the srem() method.\n",
        "* Finally, add the new value \"newvalue1\" to the set using the sadd() method.\n",
        "\n",
        "\n"
      ],
      "metadata": {
        "id": "gdxMhSX_Y98L"
      }
    },
    {
      "cell_type": "code",
      "source": [
        "# Your code goes here\n",
        "\n",
        "# import redis\n",
        "import redis\n",
        "\n",
        "# define the function\n",
        "def update_set(redis_instance, set_name):\n",
        "  # Add value1 to the set name\n",
        "  redis_instance.sadd(set_name, 'value1')\n",
        "  redis_instance.sadd(set_name, 'value2')\n",
        "  redis_instance.sadd(set_name, 'value3')\n",
        "\n",
        "  #remove the value using the srem \n",
        "  redis_instance.srem(set_name, 'value2')\n",
        "  #add the new value\n",
        "  redis_instance.sadd(set_name, 'newvalue2')\n",
        "\n",
        "  #return new value\n",
        "  set_members = redis_instance.smembers(set_name)\n",
        "  set_string = set()\n",
        "  for member in set_members:\n",
        "    member_str= member.decode('utf-8')\n",
        "    set_string.add(member_str)\n",
        "\n",
        "  return(set_string)\n",
        "\n",
        "# redis_instance = redis.Redis(host=\"\", port=\"\", db=\"\")\n",
        "update_set(r, 'myset')"
      ],
      "metadata": {
        "id": "u_DlQCPQZVTS",
        "colab": {
          "base_uri": "https://localhost:8080/"
        },
        "outputId": "36b5428b-0bff-470f-939a-a11a20de5850"
      },
      "execution_count": null,
      "outputs": [
        {
          "output_type": "execute_result",
          "data": {
            "text/plain": [
              "{'newvalue1', 'newvalue2', 'value1', 'value3'}"
            ]
          },
          "metadata": {},
          "execution_count": 18
        }
      ]
    },
    {
      "cell_type": "markdown",
      "source": [
        "### Sample solution"
      ],
      "metadata": {
        "id": "L4qEIYyyZWzI"
      }
    },
    {
      "cell_type": "code",
      "source": [
        "import redis\n",
        "\n",
        "def update_set(redis_instance, set_name):\n",
        "  redis_instance.sadd(set_name, 'value1')\n",
        "  redis_instance.sadd(set_name, 'value2')\n",
        "  redis_instance.srem(set_name, 'value1')\n",
        "  redis_instance.sadd(set_name, 'newvalue1')\n",
        "\n",
        "redis_instance = redis.Redis(host=\"\", port=\"\", db=\"\")\n",
        "update_set(redis_instance, 'myset')"
      ],
      "metadata": {
        "id": "Ry7GROVBYnRp"
      },
      "execution_count": null,
      "outputs": []
    }
  ]
}