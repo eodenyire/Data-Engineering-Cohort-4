{
  "nbformat": 4,
  "nbformat_minor": 0,
  "metadata": {
    "colab": {
      "provenance": [],
      "collapsed_sections": [
        "QLQufq9Gma3T",
        "ds9zIWuIXT_K",
        "PhhomZensrLx",
        "-7LyAMgVswV3",
        "-ymDzFJYMRja",
        "suspWoBkjX9R",
        "aa14iSC6MT7B",
        "anRk8bIXnDte",
        "Z3skz1G3nJgj",
        "IJRAbhibjcrz",
        "73zlNaiHoCOE",
        "ldwNqtkyoIam",
        "agKfAqBKjmmk",
        "xhVlaT-4pY4W",
        "4XTWINSzp29N",
        "1efCztohjyhJ",
        "OGrXbgm8qwWa",
        "txKUtGkVrFTI",
        "W9wEAJaWj6Cb"
      ]
    },
    "kernelspec": {
      "name": "python3",
      "display_name": "Python 3"
    },
    "language_info": {
      "name": "python"
    }
  },
  "cells": [
    {
      "cell_type": "markdown",
      "source": [
        "# Practice Notebook: Retrieving Data from Neo4j"
      ],
      "metadata": {
        "id": "QLQufq9Gma3T"
      }
    },
    {
      "cell_type": "markdown",
      "source": [
        "## Pre-requisites"
      ],
      "metadata": {
        "id": "ds9zIWuIXT_K"
      }
    },
    {
      "cell_type": "code",
      "source": [
        "# importing neo4j drive\n",
        "!pip install neo4j"
      ],
      "metadata": {
        "colab": {
          "base_uri": "https://localhost:8080/"
        },
        "id": "8SwTZApwRC9A",
        "outputId": "5c063910-a499-4b7a-ead2-64da094823be"
      },
      "execution_count": null,
      "outputs": [
        {
          "output_type": "stream",
          "name": "stdout",
          "text": [
            "Looking in indexes: https://pypi.org/simple, https://us-python.pkg.dev/colab-wheels/public/simple/\n",
            "Collecting neo4j\n",
            "  Downloading neo4j-5.6.0.tar.gz (171 kB)\n",
            "\u001b[2K     \u001b[90m━━━━━━━━━━━━━━━━━━━━━━━━━━━━━━━━━━━━━━━\u001b[0m \u001b[32m171.2/171.2 KB\u001b[0m \u001b[31m4.1 MB/s\u001b[0m eta \u001b[36m0:00:00\u001b[0m\n",
            "\u001b[?25h  Installing build dependencies ... \u001b[?25l\u001b[?25hdone\n",
            "  Getting requirements to build wheel ... \u001b[?25l\u001b[?25hdone\n",
            "  Installing backend dependencies ... \u001b[?25l\u001b[?25hdone\n",
            "  Preparing metadata (pyproject.toml) ... \u001b[?25l\u001b[?25hdone\n",
            "Requirement already satisfied: pytz in /usr/local/lib/python3.9/dist-packages (from neo4j) (2022.7.1)\n",
            "Building wheels for collected packages: neo4j\n",
            "  Building wheel for neo4j (pyproject.toml) ... \u001b[?25l\u001b[?25hdone\n",
            "  Created wheel for neo4j: filename=neo4j-5.6.0-py3-none-any.whl size=237450 sha256=08f9de39758d3c82cca9a48282413b7829a4ab6b1c88af04466f2bd1b275e13f\n",
            "  Stored in directory: /root/.cache/pip/wheels/c0/9b/d9/fdb6b67a6f6d7aef4acaefe55f339739caf09bb63e43bfb10e\n",
            "Successfully built neo4j\n",
            "Installing collected packages: neo4j\n",
            "Successfully installed neo4j-5.6.0\n"
          ]
        }
      ]
    },
    {
      "cell_type": "markdown",
      "source": [
        "### Populate data for Examples"
      ],
      "metadata": {
        "id": "PhhomZensrLx"
      }
    },
    {
      "cell_type": "code",
      "source": [
        "# Populate the database with some data\n",
        "from neo4j import GraphDatabase\n",
        "\n",
        "# Set the connection details:\n",
        "bolt_url = \"neo4j+s://3dafe14c.databases.neo4j.io\"\n",
        "user = \"neo4j\"\n",
        "password = \"KTLtlHilZVS6XQZ_-dXk7INW8Dj9zDfdTV9SleRkz0o\"\n",
        "\n",
        "# Connect to the database:\n",
        "driver = GraphDatabase.driver(bolt_url, auth=(user, password))\n",
        "\n",
        "# Populate the database with some data\n",
        "with driver.session() as session:\n",
        "    session.run(\"CREATE (p:Person {name: 'Alice', age: 30})\")\n",
        "    session.run(\"CREATE (p:Person {name: 'Bob', age: 35})\")\n",
        "    session.run(\"CREATE (p:Person {name: 'Charlie', age: 40})\")\n",
        "    session.run(\"CREATE (p:Person {name: 'Dave', age: 45})\")\n",
        "    session.run(\"MATCH (a:Person {name: 'Alice'}), (b:Person {name: 'Bob'}) CREATE (a)-[:FRIEND]->(b)\")\n",
        "    session.run(\"MATCH (a:Person {name: 'Bob'}), (b:Person {name: 'Charlie'}) CREATE (a)-[:FRIEND]->(b)\")\n",
        "    session.run(\"MATCH (a:Person {name: 'Charlie'}), (b:Person {name: 'Dave'}) CREATE (a)-[:FRIEND]->(b)\")"
      ],
      "metadata": {
        "id": "QTFXNrHKg9ah"
      },
      "execution_count": null,
      "outputs": []
    },
    {
      "cell_type": "markdown",
      "source": [
        "### Populate data for Challenges"
      ],
      "metadata": {
        "id": "-7LyAMgVswV3"
      }
    },
    {
      "cell_type": "code",
      "source": [
        "# Define a Cypher query to create sample data\n",
        "cypher_query = \"\"\"\n",
        "CREATE (m1:Movie {title: 'The Matrix', released: 1999, duration: 136, rating: 8.7})\n",
        "CREATE (m2:Movie {title: 'Inception', released: 2010, duration: 148, rating: 8.8})\n",
        "CREATE (m3:Movie {title: 'The Dark Knight', released: 2008, duration: 152, rating: 9.0})\n",
        "CREATE (p1:Person {name: 'Christopher Nolan'})\n",
        "CREATE (p2:Person {name: 'Keanu Reeves'})\n",
        "CREATE (p3:Person {name: 'Lana Wachowski'})\n",
        "CREATE (p4:Person {name: 'Lilly Wachowski'})\n",
        "CREATE (p1)-[:DIRECTED]->(m2)\n",
        "CREATE (p1)-[:DIRECTED]->(m3)\n",
        "CREATE (p2)-[:ACTED_IN]->(m1)\n",
        "CREATE (p2)-[:ACTED_IN]->(m2)\n",
        "CREATE (p3)-[:DIRECTED]->(m1)\n",
        "CREATE (p4)-[:DIRECTED]->(m1)\n",
        "CREATE (p1)-[:FRIEND]->(p2)\n",
        "CREATE (p2)-[:FRIEND]->(p3)\n",
        "CREATE (p3)-[:FRIEND]->(p4)\n",
        "\"\"\"\n",
        "\n",
        "# Execute the query to create sample data\n",
        "with driver.session() as session:\n",
        "    session.run(cypher_query)"
      ],
      "metadata": {
        "id": "PryE5nU8swV3"
      },
      "execution_count": null,
      "outputs": []
    },
    {
      "cell_type": "markdown",
      "source": [
        "## Examples and Challenges"
      ],
      "metadata": {
        "id": "-ymDzFJYMRja"
      }
    },
    {
      "cell_type": "markdown",
      "source": [
        "### 1. Filtering data with Cypher queries"
      ],
      "metadata": {
        "id": "suspWoBkjX9R"
      }
    },
    {
      "cell_type": "markdown",
      "source": [
        "This code defines a Cypher query that filters the data to only include Person nodes with an age greater than 35. The query returns the name and age of these nodes. The query is executed using the session.run() method, and the results are printed to the console using a for loop.\n",
        "\n",
        "You can modify the Cypher query to filter the data in different ways, depending on your needs. For example, you could filter the data to only include nodes with a specific name, or to only include nodes that are connected to other nodes in a certain way."
      ],
      "metadata": {
        "id": "N8ZwO423mGL3"
      }
    },
    {
      "cell_type": "code",
      "source": [
        "# Define Cypher query to filter data\n",
        "cypher_query = \"MATCH (p:Person) WHERE p.age > 35 RETURN p.name, p.age\"\n",
        "\n",
        "# Execute the query and print the results\n",
        "with driver.session() as session:\n",
        "    result = session.run(cypher_query)\n",
        "    for record in result:\n",
        "        print(f\"{record['p.name']} is {record['p.age']} years old.\")"
      ],
      "metadata": {
        "id": "LDxy8lhojcDQ",
        "colab": {
          "base_uri": "https://localhost:8080/"
        },
        "outputId": "6dda88b4-d75c-4fb8-a319-ff4fc4e4c5b4"
      },
      "execution_count": null,
      "outputs": [
        {
          "output_type": "stream",
          "name": "stdout",
          "text": [
            "Charlie is 40 years old.\n",
            "Dave is 45 years old.\n"
          ]
        }
      ]
    },
    {
      "cell_type": "markdown",
      "source": [
        "### 2. Limiting and skipping results with the LIMIT"
      ],
      "metadata": {
        "id": "aa14iSC6MT7B"
      }
    },
    {
      "cell_type": "markdown",
      "source": [
        "This following code snippet executes a Cypher query using the session.run() method. The query selects all nodes with the Person label, returns their name and age properties, orders the results by age, and limits the results to the first 2 records. The results are then printed to the console using a for loop.\n",
        "\n"
      ],
      "metadata": {
        "id": "tgXfYEQjm6r8"
      }
    },
    {
      "cell_type": "code",
      "source": [
        "with driver.session() as session:\n",
        "  result = session.run(\"MATCH (p:Person) RETURN p.name, p.age ORDER BY p.age LIMIT 2\")\n",
        "  for record in result:\n",
        "    print(record)"
      ],
      "metadata": {
        "id": "vaXjc5RSM2bu",
        "colab": {
          "base_uri": "https://localhost:8080/"
        },
        "outputId": "b8f4ef92-db4d-4f5e-9df6-be1f0a9c0d00"
      },
      "execution_count": null,
      "outputs": [
        {
          "output_type": "stream",
          "name": "stdout",
          "text": [
            "<Record p.name='Alice' p.age=25>\n",
            "<Record p.name='Alice' p.age=25>\n"
          ]
        }
      ]
    },
    {
      "cell_type": "markdown",
      "source": [
        "Write a program that connects to a Neo4j database and executes a Cypher query to retrieve the names of all Movie nodes that have a released property value greater than or equal to 2000 and are tagged with the genre Action. The program should print each movie name to the console."
      ],
      "metadata": {
        "id": "jc8Tz9RtrgrL"
      }
    },
    {
      "cell_type": "markdown",
      "source": [
        "#### Challenge"
      ],
      "metadata": {
        "id": "anRk8bIXnDte"
      }
    },
    {
      "cell_type": "markdown",
      "source": [
        "Write a program that connects to a Neo4j database, and executes a Cypher query to retrieve the names of all Movie nodes that have a released property value greater than or equal to 2000. The program should print each movie name to the console."
      ],
      "metadata": {
        "id": "w3qWaSOAnGwL"
      }
    },
    {
      "cell_type": "code",
      "source": [
        "# Your code goes here\n",
        "with driver.session() as session:\n",
        "  result = session.run(\"MATCH (m:Movie) WHERE m.released >= 2000 RETURN m.title ORDER BY m.released\")\n",
        "  for record in result:\n",
        "    print(record['m.title'])"
      ],
      "metadata": {
        "id": "Nu9PMvXZnGOH",
        "colab": {
          "base_uri": "https://localhost:8080/"
        },
        "outputId": "a05b69ef-994a-4d8c-b3c8-6ab24deb9992"
      },
      "execution_count": null,
      "outputs": [
        {
          "output_type": "stream",
          "name": "stdout",
          "text": [
            "The Dark Knight\n",
            "Inception\n"
          ]
        }
      ]
    },
    {
      "cell_type": "markdown",
      "source": [
        "#### Solution"
      ],
      "metadata": {
        "id": "Z3skz1G3nJgj"
      }
    },
    {
      "cell_type": "code",
      "source": [
        "# Define Cypher query to filter data\n",
        "cypher_query = \"MATCH (m:Movie) WHERE m.released >= 2000 RETURN m.title\"\n",
        "\n",
        "# Execute the query and print the results\n",
        "with driver.session() as session:\n",
        "    result = session.run(cypher_query)\n",
        "    for record in result:\n",
        "        print(record['m.title'])"
      ],
      "metadata": {
        "colab": {
          "base_uri": "https://localhost:8080/"
        },
        "id": "s5VWtN7HnDdF",
        "outputId": "63aea649-2a86-4954-e2ae-a55f97680261"
      },
      "execution_count": null,
      "outputs": [
        {
          "output_type": "stream",
          "name": "stdout",
          "text": [
            "Inception\n",
            "The Dark Knight\n"
          ]
        }
      ]
    },
    {
      "cell_type": "markdown",
      "source": [
        "### 3. Sorting results with the ORDER BY keyword"
      ],
      "metadata": {
        "id": "IJRAbhibjcrz"
      }
    },
    {
      "cell_type": "markdown",
      "source": [
        "The following code executes a Cypher query using the session.run() method. The query selects all nodes with the Person label that are connected to other Person nodes by a FRIEND relationship. The query returns the names of the connected Person nodes and orders the results by the name property of the first node in descending order. The results are then printed to the console using a for loop."
      ],
      "metadata": {
        "id": "TUrCqYA8n7fq"
      }
    },
    {
      "cell_type": "code",
      "source": [
        "with driver.session() as session:\n",
        "  result = session.run(\"MATCH (p:Person)-[:FRIEND]->(q:Person) RETURN p.name, q.name ORDER BY p.name DESC\")\n",
        "  for record in result:\n",
        "    print(record)"
      ],
      "metadata": {
        "colab": {
          "base_uri": "https://localhost:8080/"
        },
        "id": "KtV4UO4cjiav",
        "outputId": "4941b1ad-4d16-4e8c-a74f-2ae3df51a571"
      },
      "execution_count": null,
      "outputs": [
        {
          "output_type": "stream",
          "name": "stdout",
          "text": [
            "<Record p.name='Lana Wachowski' q.name='Lilly Wachowski'>\n",
            "<Record p.name='Keanu Reeves' q.name='Lana Wachowski'>\n",
            "<Record p.name='Christopher Nolan' q.name='Keanu Reeves'>\n",
            "<Record p.name='Charlie' q.name='Dave'>\n",
            "<Record p.name='Bob' q.name='Charlie'>\n",
            "<Record p.name='Bob' q.name='Charlie'>\n",
            "<Record p.name='Bob' q.name='Charlie'>\n",
            "<Record p.name='Bob' q.name='Charlie'>\n",
            "<Record p.name='Alice' q.name='Bob'>\n",
            "<Record p.name='Alice' q.name='Bob'>\n",
            "<Record p.name='Alice' q.name='Bob'>\n",
            "<Record p.name='Alice' q.name='Bob'>\n",
            "<Record p.name='Alice' q.name='Bob'>\n",
            "<Record p.name='Alice' q.name='Bob'>\n",
            "<Record p.name='Alice' q.name='Bob'>\n",
            "<Record p.name='Alice' q.name='Bob'>\n",
            "<Record p.name='Alice' q.name='Bob'>\n",
            "<Record p.name='Alice' q.name='Bob'>\n",
            "<Record p.name='Alice' q.name='Bob'>\n",
            "<Record p.name='Alice' q.name='Bob'>\n",
            "<Record p.name='Alice' q.name='Bob'>\n",
            "<Record p.name='Alice' q.name='Bob'>\n",
            "<Record p.name='Alice' q.name='Bob'>\n",
            "<Record p.name='Alice' q.name='Bob'>\n",
            "<Record p.name='Alice' q.name='Bob'>\n",
            "<Record p.name='Alice' q.name='Bob'>\n",
            "<Record p.name='Alice' q.name='Bob'>\n",
            "<Record p.name='Alice' q.name='Bob'>\n",
            "<Record p.name='Alice' q.name='Bob'>\n",
            "<Record p.name='Alice' q.name='Bob'>\n",
            "<Record p.name='Alice' q.name='Bob'>\n",
            "<Record p.name='Alice' q.name='Bob'>\n",
            "<Record p.name='Alice' q.name='Bob'>\n",
            "<Record p.name='Alice' q.name='Bob'>\n",
            "<Record p.name='Alice' q.name='Bob'>\n",
            "<Record p.name='Alice' q.name='Bob'>\n",
            "<Record p.name='Alice' q.name='Bob'>\n",
            "<Record p.name='Alice' q.name='Bob'>\n",
            "<Record p.name='Alice' q.name='Bob'>\n",
            "<Record p.name='Alice' q.name='Bob'>\n"
          ]
        }
      ]
    },
    {
      "cell_type": "markdown",
      "source": [
        "#### Challenge"
      ],
      "metadata": {
        "id": "73zlNaiHoCOE"
      }
    },
    {
      "cell_type": "markdown",
      "source": [
        "Write a program that connects to a Neo4j database and executes a Cypher query to retrieve the titles of all Movie nodes that are connected to a Person node with a DIRECTED relationship. The program should print each movie title to the console."
      ],
      "metadata": {
        "id": "Ym7fglGBoDoM"
      }
    },
    {
      "cell_type": "code",
      "source": [
        "# Your code goes here\n",
        "with driver.session() as session:\n",
        "  result = session.run(\"MATCH (p:Person)-[:DIRECTED]->(m:Movie) RETURN m.title\")\n",
        "  for record in result:\n",
        "    print(record['m.title'])"
      ],
      "metadata": {
        "id": "WyySh_rUoEU0",
        "colab": {
          "base_uri": "https://localhost:8080/"
        },
        "outputId": "7bd22dde-073e-47e8-ffef-00305c4b1e07"
      },
      "execution_count": null,
      "outputs": [
        {
          "output_type": "stream",
          "name": "stdout",
          "text": [
            "Inception\n",
            "The Dark Knight\n",
            "The Matrix\n",
            "The Matrix\n"
          ]
        }
      ]
    },
    {
      "cell_type": "markdown",
      "source": [
        "#### Sample solution"
      ],
      "metadata": {
        "id": "ldwNqtkyoIam"
      }
    },
    {
      "cell_type": "code",
      "source": [
        "# Define Cypher query to filter data\n",
        "cypher_query = \"MATCH (p:Person)-[:DIRECTED]->(m:Movie) RETURN m.title\"\n",
        "\n",
        "# Execute the query and print the results\n",
        "with driver.session() as session:\n",
        "    result = session.run(cypher_query)\n",
        "    for record in result:\n",
        "        print(record['m.title'])"
      ],
      "metadata": {
        "id": "NLHOey2UoKTe",
        "colab": {
          "base_uri": "https://localhost:8080/"
        },
        "outputId": "d2a16466-47bf-419e-ef6e-f75def98aba4"
      },
      "execution_count": null,
      "outputs": [
        {
          "output_type": "stream",
          "name": "stdout",
          "text": [
            "Inception\n",
            "The Dark Knight\n",
            "The Matrix\n",
            "The Matrix\n"
          ]
        }
      ]
    },
    {
      "cell_type": "markdown",
      "source": [
        "### 4. Aggregating data with functions like COUNT(), SUM(), and AVG()"
      ],
      "metadata": {
        "id": "agKfAqBKjmmk"
      }
    },
    {
      "cell_type": "markdown",
      "source": [
        "The following code uses the session.run() method to execute a Cypher query that aggregates data about all Person nodes in the graph. The COUNT(), SUM(), and AVG() functions are used to count the number of nodes, calculate the sum of the age property values, and calculate the average of the age property values, respectively. The AS keyword is used to assign aliases to the aggregated values, which can then be accessed using the aliases in the for loop."
      ],
      "metadata": {
        "id": "fhmgjiuRpOWv"
      }
    },
    {
      "cell_type": "code",
      "source": [
        "with driver.session() as session:\n",
        "  result = session.run(\"MATCH (p:Person) RETURN COUNT(p) AS num_people, SUM(p.age) AS total_age, AVG(p.age) AS avg_age\")\n",
        "  for record in result:\n",
        "    print(record)"
      ],
      "metadata": {
        "colab": {
          "base_uri": "https://localhost:8080/"
        },
        "id": "mDDxRXwNjvoz",
        "outputId": "5752dbca-7e43-41ee-8574-f366bfd2129a"
      },
      "execution_count": null,
      "outputs": [
        {
          "output_type": "stream",
          "name": "stdout",
          "text": [
            "<Record num_people=19 total_age=285 avg_age=31.666666666666668>\n"
          ]
        }
      ]
    },
    {
      "cell_type": "markdown",
      "source": [
        "#### Challenge"
      ],
      "metadata": {
        "id": "xhVlaT-4pY4W"
      }
    },
    {
      "cell_type": "markdown",
      "source": [
        "Write a program that connects to a Neo4j database, and executes a Cypher query to retrieve the count of all Movie nodes, the sum of their duration properties, and the average of their rating properties. The program should print the results to the console."
      ],
      "metadata": {
        "id": "GqFBUF2RpbgN"
      }
    },
    {
      "cell_type": "code",
      "source": [
        "# Your code goes here\n",
        "with driver.session() as session:\n",
        "  result = session.run(\"MATCH (m:Movie) RETURN SUM(m.duration) AS total_duration, AVG(m.rating) AS average_rating, COUNT(m) as no_of_movies \")\n",
        "  for record in result:\n",
        "    print(record)"
      ],
      "metadata": {
        "id": "Ge7c94nXpWEo",
        "colab": {
          "base_uri": "https://localhost:8080/"
        },
        "outputId": "88e50cac-04a9-4e3d-d698-baf5b4a077d6"
      },
      "execution_count": null,
      "outputs": [
        {
          "output_type": "stream",
          "name": "stdout",
          "text": [
            "<Record total_duration=436 average_rating=8.833333333333334 no_of_movies=3>\n"
          ]
        }
      ]
    },
    {
      "cell_type": "markdown",
      "source": [
        "#### Sample solution"
      ],
      "metadata": {
        "id": "4XTWINSzp29N"
      }
    },
    {
      "cell_type": "code",
      "source": [
        "# Define Cypher query to aggregate data\n",
        "cypher_query = \"MATCH (m:Movie) RETURN COUNT(m) AS num_movies, SUM(m.duration) AS total_duration, AVG(m.rating) AS avg_rating\"\n",
        "\n",
        "# Execute the query and print the results\n",
        "with driver.session() as session:\n",
        "    result = session.run(cypher_query)\n",
        "    for record in result:\n",
        "        print(f\"Number of movies: {record['num_movies']}\")\n",
        "        print(f\"Total duration: {record['total_duration']} minutes\")\n",
        "        print(f\"Average rating: {record['avg_rating']:.2f} stars\")"
      ],
      "metadata": {
        "colab": {
          "base_uri": "https://localhost:8080/"
        },
        "id": "JVg0gQY-p5-G",
        "outputId": "260309e4-b96b-4631-91e8-13dd5163d0d6"
      },
      "execution_count": null,
      "outputs": [
        {
          "output_type": "stream",
          "name": "stdout",
          "text": [
            "Number of movies: 3\n",
            "Total duration: 436 minutes\n",
            "Average rating: 8.83 stars\n"
          ]
        }
      ]
    },
    {
      "cell_type": "markdown",
      "source": [
        "### 5. Using pattern matching to retrieve specific nodes and relationships"
      ],
      "metadata": {
        "id": "1efCztohjyhJ"
      }
    },
    {
      "cell_type": "markdown",
      "source": [
        "The following selects all nodes with the Person label that are connected by a FRIEND relationship, and filters the results to only include nodes with a name property equal to \"Alice\". The query returns the name properties of both nodes. The for loop iterates over the result records and prints each record to the console."
      ],
      "metadata": {
        "id": "AY8bNTCUqnzf"
      }
    },
    {
      "cell_type": "code",
      "source": [
        "with driver.session() as session:\n",
        "  result = session.run(\"MATCH (p:Person)-[:FRIEND]->(q:Person) WHERE p.name = 'Alice' RETURN p.name, q.name\")\n",
        "  for record in result:\n",
        "    print(record)"
      ],
      "metadata": {
        "colab": {
          "base_uri": "https://localhost:8080/"
        },
        "id": "SqYGvgPkj1xN",
        "outputId": "a12b72bb-781c-4d78-b196-0ee7634d4f6b"
      },
      "execution_count": null,
      "outputs": [
        {
          "output_type": "stream",
          "name": "stdout",
          "text": [
            "<Record p.name='Alice' q.name='Bob'>\n",
            "<Record p.name='Alice' q.name='Bob'>\n",
            "<Record p.name='Alice' q.name='Bob'>\n",
            "<Record p.name='Alice' q.name='Bob'>\n",
            "<Record p.name='Alice' q.name='Bob'>\n",
            "<Record p.name='Alice' q.name='Bob'>\n",
            "<Record p.name='Alice' q.name='Bob'>\n",
            "<Record p.name='Alice' q.name='Bob'>\n",
            "<Record p.name='Alice' q.name='Bob'>\n",
            "<Record p.name='Alice' q.name='Bob'>\n",
            "<Record p.name='Alice' q.name='Bob'>\n",
            "<Record p.name='Alice' q.name='Bob'>\n",
            "<Record p.name='Alice' q.name='Bob'>\n",
            "<Record p.name='Alice' q.name='Bob'>\n",
            "<Record p.name='Alice' q.name='Bob'>\n",
            "<Record p.name='Alice' q.name='Bob'>\n",
            "<Record p.name='Alice' q.name='Bob'>\n",
            "<Record p.name='Alice' q.name='Bob'>\n",
            "<Record p.name='Alice' q.name='Bob'>\n",
            "<Record p.name='Alice' q.name='Bob'>\n",
            "<Record p.name='Alice' q.name='Bob'>\n",
            "<Record p.name='Alice' q.name='Bob'>\n",
            "<Record p.name='Alice' q.name='Bob'>\n",
            "<Record p.name='Alice' q.name='Bob'>\n",
            "<Record p.name='Alice' q.name='Bob'>\n",
            "<Record p.name='Alice' q.name='Bob'>\n",
            "<Record p.name='Alice' q.name='Bob'>\n",
            "<Record p.name='Alice' q.name='Bob'>\n",
            "<Record p.name='Alice' q.name='Bob'>\n",
            "<Record p.name='Alice' q.name='Bob'>\n",
            "<Record p.name='Alice' q.name='Bob'>\n",
            "<Record p.name='Alice' q.name='Bob'>\n"
          ]
        }
      ]
    },
    {
      "cell_type": "markdown",
      "source": [
        "#### Challenge"
      ],
      "metadata": {
        "id": "OGrXbgm8qwWa"
      }
    },
    {
      "cell_type": "markdown",
      "source": [
        " Write a program that connects to a Neo4j database, and executes a Cypher query to retrieve the names of all Person nodes that are connected to a FRIEND relationship with another Person node, and whose name starts with the letter \"B\". The program should print each person's name to the console."
      ],
      "metadata": {
        "id": "rcgVPOoLqx_2"
      }
    },
    {
      "cell_type": "code",
      "source": [
        "# Your code goes here\n",
        "with driver.session() as session:\n",
        "  result = session.run(\"MATCH (p:Person)-[:FRIEND]->(q:Person) WHERE q.name STARTS WITH 'B' RETURN p.name, q.name\")\n",
        "  for record in result:\n",
        "    print(record)"
      ],
      "metadata": {
        "id": "CRKXL6GXqy0a",
        "colab": {
          "base_uri": "https://localhost:8080/"
        },
        "outputId": "239ad723-55bc-4106-800c-e4a51c0bfc3c"
      },
      "execution_count": null,
      "outputs": [
        {
          "output_type": "stream",
          "name": "stdout",
          "text": [
            "<Record p.name='Alice' q.name='Bob'>\n",
            "<Record p.name='Alice' q.name='Bob'>\n",
            "<Record p.name='Alice' q.name='Bob'>\n",
            "<Record p.name='Alice' q.name='Bob'>\n",
            "<Record p.name='Alice' q.name='Bob'>\n",
            "<Record p.name='Alice' q.name='Bob'>\n",
            "<Record p.name='Alice' q.name='Bob'>\n",
            "<Record p.name='Alice' q.name='Bob'>\n",
            "<Record p.name='Alice' q.name='Bob'>\n",
            "<Record p.name='Alice' q.name='Bob'>\n",
            "<Record p.name='Alice' q.name='Bob'>\n",
            "<Record p.name='Alice' q.name='Bob'>\n",
            "<Record p.name='Alice' q.name='Bob'>\n",
            "<Record p.name='Alice' q.name='Bob'>\n",
            "<Record p.name='Alice' q.name='Bob'>\n",
            "<Record p.name='Alice' q.name='Bob'>\n",
            "<Record p.name='Alice' q.name='Bob'>\n",
            "<Record p.name='Alice' q.name='Bob'>\n",
            "<Record p.name='Alice' q.name='Bob'>\n",
            "<Record p.name='Alice' q.name='Bob'>\n",
            "<Record p.name='Alice' q.name='Bob'>\n",
            "<Record p.name='Alice' q.name='Bob'>\n",
            "<Record p.name='Alice' q.name='Bob'>\n",
            "<Record p.name='Alice' q.name='Bob'>\n",
            "<Record p.name='Alice' q.name='Bob'>\n",
            "<Record p.name='Alice' q.name='Bob'>\n",
            "<Record p.name='Alice' q.name='Bob'>\n",
            "<Record p.name='Alice' q.name='Bob'>\n",
            "<Record p.name='Alice' q.name='Bob'>\n",
            "<Record p.name='Alice' q.name='Bob'>\n",
            "<Record p.name='Alice' q.name='Bob'>\n",
            "<Record p.name='Alice' q.name='Bob'>\n"
          ]
        }
      ]
    },
    {
      "cell_type": "markdown",
      "source": [
        "#### Sample Solution"
      ],
      "metadata": {
        "id": "txKUtGkVrFTI"
      }
    },
    {
      "cell_type": "code",
      "source": [
        "# Define Cypher query to filter data\n",
        "cypher_query = \"MATCH (p1:Person)-[:FRIEND]->(p2:Person) WHERE p1.name =~ 'B.*' RETURN p1.name\"\n",
        "\n",
        "# Execute the query and print the results\n",
        "with driver.session() as session:\n",
        "    result = session.run(cypher_query)\n",
        "    for record in result:\n",
        "        print(record['p1.name'])"
      ],
      "metadata": {
        "colab": {
          "base_uri": "https://localhost:8080/"
        },
        "id": "j7ACBZvjrHHW",
        "outputId": "ec85c9d9-a758-454a-e81c-210f537a802e"
      },
      "execution_count": null,
      "outputs": [
        {
          "output_type": "stream",
          "name": "stdout",
          "text": [
            "Bob\n",
            "Bob\n",
            "Bob\n",
            "Bob\n"
          ]
        }
      ]
    },
    {
      "cell_type": "markdown",
      "source": [
        "### 6. Close the database connection\n"
      ],
      "metadata": {
        "id": "W9wEAJaWj6Cb"
      }
    },
    {
      "cell_type": "code",
      "source": [
        "driver.close()"
      ],
      "metadata": {
        "id": "tm038HxOj8yt"
      },
      "execution_count": null,
      "outputs": []
    }
  ]
}